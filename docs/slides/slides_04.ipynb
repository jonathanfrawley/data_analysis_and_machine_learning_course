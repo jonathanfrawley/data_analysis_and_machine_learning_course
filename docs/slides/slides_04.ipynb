{
 "cells": [
  {
   "cell_type": "markdown",
   "metadata": {
    "slideshow": {
     "slide_type": "slide"
    }
   },
   "source": [
    "# Final words\n",
    " - Course will stay online after this, feel free to go through at your own pace: https://bit.ly/3bpUjF4\n",
    " - Please add one good thing and one thing you would like to improve about the course: <https://bit.ly/2VTTtK2>"
   ]
  },
  {
   "cell_type": "markdown",
   "metadata": {
    "slideshow": {
     "slide_type": "slide"
    }
   },
   "source": [
    "# ARC are here to help\n",
    " - Technical help on projects\n",
    " - University wide (not just computationally intensive departments)\n",
    " - Provide programmers for research projects if built into grant proposals\n",
    " - Hamilton / Nice19 machine\n",
    " - Come to Research Methods Café for ad-hoc technical advice (virtual event for now): <https://bit.ly/3eJSkNN>"
   ]
  }
 ],
 "metadata": {
  "celltoolbar": "Slideshow",
  "kernelspec": {
   "display_name": "Python 3",
   "language": "python",
   "name": "python3"
  },
  "language_info": {
   "codemirror_mode": {
    "name": "ipython",
    "version": 3
   },
   "file_extension": ".py",
   "mimetype": "text/x-python",
   "name": "python",
   "nbconvert_exporter": "python",
   "pygments_lexer": "ipython3",
   "version": "3.7.6"
  }
 },
 "nbformat": 4,
 "nbformat_minor": 2
}
