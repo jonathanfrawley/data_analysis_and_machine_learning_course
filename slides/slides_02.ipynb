{
 "cells": [
  {
   "cell_type": "markdown",
   "metadata": {
    "slideshow": {
     "slide_type": "slide"
    }
   },
   "source": [
    "# Analysing Datasets using Pandas\n",
    "*by Jonathan Frawley*"
   ]
  },
  {
   "cell_type": "markdown",
   "metadata": {
    "slideshow": {
     "slide_type": "slide"
    }
   },
   "source": [
    "We are going to look at parsing datasets using CSV with a library called [Pandas](https://pandas.pydata.org/). \n",
    "\n",
    "First, we import our dependencies:"
   ]
  },
  {
   "cell_type": "code",
   "execution_count": 1,
   "metadata": {
    "slideshow": {
     "slide_type": "slide"
    }
   },
   "outputs": [],
   "source": [
    "import numpy as np\n",
    "import pandas as pd\n",
    "from io import StringIO\n",
    "import matplotlib.pyplot as plt\n",
    "from scipy.interpolate import make_interp_spline, BSpline"
   ]
  },
  {
   "cell_type": "markdown",
   "metadata": {
    "slideshow": {
     "slide_type": "slide"
    }
   },
   "source": [
    "## Parsing CSV"
   ]
  },
  {
   "cell_type": "markdown",
   "metadata": {
    "slideshow": {
     "slide_type": "fragment"
    }
   },
   "source": [
    "Here, we read in a simple CSV file from a string:"
   ]
  },
  {
   "cell_type": "code",
   "execution_count": 2,
   "metadata": {
    "slideshow": {
     "slide_type": "fragment"
    }
   },
   "outputs": [
    {
     "data": {
      "text/html": [
       "<div>\n",
       "<style scoped>\n",
       "    .dataframe tbody tr th:only-of-type {\n",
       "        vertical-align: middle;\n",
       "    }\n",
       "\n",
       "    .dataframe tbody tr th {\n",
       "        vertical-align: top;\n",
       "    }\n",
       "\n",
       "    .dataframe thead th {\n",
       "        text-align: right;\n",
       "    }\n",
       "</style>\n",
       "<table border=\"1\" class=\"dataframe\">\n",
       "  <thead>\n",
       "    <tr style=\"text-align: right;\">\n",
       "      <th></th>\n",
       "      <th>name</th>\n",
       "      <th>age</th>\n",
       "      <th>course</th>\n",
       "    </tr>\n",
       "  </thead>\n",
       "  <tbody>\n",
       "    <tr>\n",
       "      <th>0</th>\n",
       "      <td>Muire</td>\n",
       "      <td>23</td>\n",
       "      <td>Computer Science</td>\n",
       "    </tr>\n",
       "    <tr>\n",
       "      <th>1</th>\n",
       "      <td>Seán</td>\n",
       "      <td>19</td>\n",
       "      <td>Computer Science</td>\n",
       "    </tr>\n",
       "    <tr>\n",
       "      <th>2</th>\n",
       "      <td>Saoirse</td>\n",
       "      <td>17</td>\n",
       "      <td>English</td>\n",
       "    </tr>\n",
       "    <tr>\n",
       "      <th>3</th>\n",
       "      <td>Niamh</td>\n",
       "      <td>19</td>\n",
       "      <td>Mathematics</td>\n",
       "    </tr>\n",
       "  </tbody>\n",
       "</table>\n",
       "</div>"
      ],
      "text/plain": [
       "      name  age            course\n",
       "0    Muire   23  Computer Science\n",
       "1     Seán   19  Computer Science\n",
       "2  Saoirse   17           English\n",
       "3    Niamh   19       Mathematics"
      ]
     },
     "execution_count": 2,
     "metadata": {},
     "output_type": "execute_result"
    }
   ],
   "source": [
    "csv_string_file = StringIO(\"\"\"name,age,course\n",
    "Muire,23,Computer Science\n",
    "Seán,19,Computer Science\n",
    "Saoirse,17,English\n",
    "Niamh,19,Mathematics\n",
    "\"\"\")\n",
    "csv = pd.read_csv(csv_string_file)\n",
    "csv"
   ]
  },
  {
   "cell_type": "markdown",
   "metadata": {
    "slideshow": {
     "slide_type": "slide"
    }
   },
   "source": [
    "Now, say we wanted all of the students who studied Computer Science:"
   ]
  },
  {
   "cell_type": "code",
   "execution_count": 3,
   "metadata": {
    "slideshow": {
     "slide_type": "fragment"
    }
   },
   "outputs": [
    {
     "data": {
      "text/html": [
       "<div>\n",
       "<style scoped>\n",
       "    .dataframe tbody tr th:only-of-type {\n",
       "        vertical-align: middle;\n",
       "    }\n",
       "\n",
       "    .dataframe tbody tr th {\n",
       "        vertical-align: top;\n",
       "    }\n",
       "\n",
       "    .dataframe thead th {\n",
       "        text-align: right;\n",
       "    }\n",
       "</style>\n",
       "<table border=\"1\" class=\"dataframe\">\n",
       "  <thead>\n",
       "    <tr style=\"text-align: right;\">\n",
       "      <th></th>\n",
       "      <th>name</th>\n",
       "      <th>age</th>\n",
       "      <th>course</th>\n",
       "    </tr>\n",
       "  </thead>\n",
       "  <tbody>\n",
       "    <tr>\n",
       "      <th>0</th>\n",
       "      <td>Muire</td>\n",
       "      <td>23</td>\n",
       "      <td>Computer Science</td>\n",
       "    </tr>\n",
       "    <tr>\n",
       "      <th>1</th>\n",
       "      <td>Seán</td>\n",
       "      <td>19</td>\n",
       "      <td>Computer Science</td>\n",
       "    </tr>\n",
       "  </tbody>\n",
       "</table>\n",
       "</div>"
      ],
      "text/plain": [
       "    name  age            course\n",
       "0  Muire   23  Computer Science\n",
       "1   Seán   19  Computer Science"
      ]
     },
     "execution_count": 3,
     "metadata": {},
     "output_type": "execute_result"
    }
   ],
   "source": [
    "csv[csv['course'] == 'Computer Science']"
   ]
  },
  {
   "cell_type": "markdown",
   "metadata": {
    "slideshow": {
     "slide_type": "slide"
    }
   },
   "source": [
    "Use describe() to get a summary of the numeric columns of your dataframe:"
   ]
  },
  {
   "cell_type": "code",
   "execution_count": 4,
   "metadata": {
    "slideshow": {
     "slide_type": "fragment"
    }
   },
   "outputs": [
    {
     "data": {
      "text/html": [
       "<div>\n",
       "<style scoped>\n",
       "    .dataframe tbody tr th:only-of-type {\n",
       "        vertical-align: middle;\n",
       "    }\n",
       "\n",
       "    .dataframe tbody tr th {\n",
       "        vertical-align: top;\n",
       "    }\n",
       "\n",
       "    .dataframe thead th {\n",
       "        text-align: right;\n",
       "    }\n",
       "</style>\n",
       "<table border=\"1\" class=\"dataframe\">\n",
       "  <thead>\n",
       "    <tr style=\"text-align: right;\">\n",
       "      <th></th>\n",
       "      <th>age</th>\n",
       "    </tr>\n",
       "  </thead>\n",
       "  <tbody>\n",
       "    <tr>\n",
       "      <th>count</th>\n",
       "      <td>4.000000</td>\n",
       "    </tr>\n",
       "    <tr>\n",
       "      <th>mean</th>\n",
       "      <td>19.500000</td>\n",
       "    </tr>\n",
       "    <tr>\n",
       "      <th>std</th>\n",
       "      <td>2.516611</td>\n",
       "    </tr>\n",
       "    <tr>\n",
       "      <th>min</th>\n",
       "      <td>17.000000</td>\n",
       "    </tr>\n",
       "    <tr>\n",
       "      <th>25%</th>\n",
       "      <td>18.500000</td>\n",
       "    </tr>\n",
       "    <tr>\n",
       "      <th>50%</th>\n",
       "      <td>19.000000</td>\n",
       "    </tr>\n",
       "    <tr>\n",
       "      <th>75%</th>\n",
       "      <td>20.000000</td>\n",
       "    </tr>\n",
       "    <tr>\n",
       "      <th>max</th>\n",
       "      <td>23.000000</td>\n",
       "    </tr>\n",
       "  </tbody>\n",
       "</table>\n",
       "</div>"
      ],
      "text/plain": [
       "             age\n",
       "count   4.000000\n",
       "mean   19.500000\n",
       "std     2.516611\n",
       "min    17.000000\n",
       "25%    18.500000\n",
       "50%    19.000000\n",
       "75%    20.000000\n",
       "max    23.000000"
      ]
     },
     "execution_count": 4,
     "metadata": {},
     "output_type": "execute_result"
    }
   ],
   "source": [
    "csv.describe()"
   ]
  },
  {
   "cell_type": "markdown",
   "metadata": {
    "slideshow": {
     "slide_type": "slide"
    }
   },
   "source": [
    "## Using groupby"
   ]
  },
  {
   "cell_type": "markdown",
   "metadata": {
    "slideshow": {
     "slide_type": "fragment"
    }
   },
   "source": [
    "Get average age of students on a course:"
   ]
  },
  {
   "cell_type": "code",
   "execution_count": 5,
   "metadata": {
    "slideshow": {
     "slide_type": "fragment"
    }
   },
   "outputs": [
    {
     "data": {
      "text/html": [
       "<div>\n",
       "<style scoped>\n",
       "    .dataframe tbody tr th:only-of-type {\n",
       "        vertical-align: middle;\n",
       "    }\n",
       "\n",
       "    .dataframe tbody tr th {\n",
       "        vertical-align: top;\n",
       "    }\n",
       "\n",
       "    .dataframe thead th {\n",
       "        text-align: right;\n",
       "    }\n",
       "</style>\n",
       "<table border=\"1\" class=\"dataframe\">\n",
       "  <thead>\n",
       "    <tr style=\"text-align: right;\">\n",
       "      <th></th>\n",
       "      <th>age</th>\n",
       "    </tr>\n",
       "    <tr>\n",
       "      <th>course</th>\n",
       "      <th></th>\n",
       "    </tr>\n",
       "  </thead>\n",
       "  <tbody>\n",
       "    <tr>\n",
       "      <th>Computer Science</th>\n",
       "      <td>21</td>\n",
       "    </tr>\n",
       "    <tr>\n",
       "      <th>English</th>\n",
       "      <td>17</td>\n",
       "    </tr>\n",
       "    <tr>\n",
       "      <th>Mathematics</th>\n",
       "      <td>19</td>\n",
       "    </tr>\n",
       "  </tbody>\n",
       "</table>\n",
       "</div>"
      ],
      "text/plain": [
       "                  age\n",
       "course               \n",
       "Computer Science   21\n",
       "English            17\n",
       "Mathematics        19"
      ]
     },
     "execution_count": 5,
     "metadata": {},
     "output_type": "execute_result"
    }
   ],
   "source": [
    "csv.groupby('course').mean()"
   ]
  },
  {
   "cell_type": "markdown",
   "metadata": {
    "slideshow": {
     "slide_type": "slide"
    }
   },
   "source": [
    "# Sorting data"
   ]
  },
  {
   "cell_type": "code",
   "execution_count": 6,
   "metadata": {
    "slideshow": {
     "slide_type": "fragment"
    }
   },
   "outputs": [
    {
     "data": {
      "text/html": [
       "<div>\n",
       "<style scoped>\n",
       "    .dataframe tbody tr th:only-of-type {\n",
       "        vertical-align: middle;\n",
       "    }\n",
       "\n",
       "    .dataframe tbody tr th {\n",
       "        vertical-align: top;\n",
       "    }\n",
       "\n",
       "    .dataframe thead th {\n",
       "        text-align: right;\n",
       "    }\n",
       "</style>\n",
       "<table border=\"1\" class=\"dataframe\">\n",
       "  <thead>\n",
       "    <tr style=\"text-align: right;\">\n",
       "      <th></th>\n",
       "      <th>item_name</th>\n",
       "      <th>item_price</th>\n",
       "    </tr>\n",
       "  </thead>\n",
       "  <tbody>\n",
       "    <tr>\n",
       "      <th>0</th>\n",
       "      <td>Hammer</td>\n",
       "      <td>1.9</td>\n",
       "    </tr>\n",
       "    <tr>\n",
       "      <th>1</th>\n",
       "      <td>Nail</td>\n",
       "      <td>0.2</td>\n",
       "    </tr>\n",
       "    <tr>\n",
       "      <th>2</th>\n",
       "      <td>Scissors</td>\n",
       "      <td>3.0</td>\n",
       "    </tr>\n",
       "    <tr>\n",
       "      <th>3</th>\n",
       "      <td>Lawnmower</td>\n",
       "      <td>99.9</td>\n",
       "    </tr>\n",
       "  </tbody>\n",
       "</table>\n",
       "</div>"
      ],
      "text/plain": [
       "   item_name  item_price\n",
       "0     Hammer         1.9\n",
       "1       Nail         0.2\n",
       "2   Scissors         3.0\n",
       "3  Lawnmower        99.9"
      ]
     },
     "execution_count": 6,
     "metadata": {},
     "output_type": "execute_result"
    }
   ],
   "source": [
    "csv_string_file = StringIO(\"\"\"item_name,item_price\n",
    "Hammer,1.90\n",
    "Nail,0.20\n",
    "Scissors,3.00\n",
    "Lawnmower,99.90\n",
    "\"\"\")\n",
    "csv = pd.read_csv(csv_string_file)\n",
    "csv"
   ]
  },
  {
   "cell_type": "code",
   "execution_count": 7,
   "metadata": {
    "slideshow": {
     "slide_type": "slide"
    }
   },
   "outputs": [
    {
     "data": {
      "text/html": [
       "<div>\n",
       "<style scoped>\n",
       "    .dataframe tbody tr th:only-of-type {\n",
       "        vertical-align: middle;\n",
       "    }\n",
       "\n",
       "    .dataframe tbody tr th {\n",
       "        vertical-align: top;\n",
       "    }\n",
       "\n",
       "    .dataframe thead th {\n",
       "        text-align: right;\n",
       "    }\n",
       "</style>\n",
       "<table border=\"1\" class=\"dataframe\">\n",
       "  <thead>\n",
       "    <tr style=\"text-align: right;\">\n",
       "      <th></th>\n",
       "      <th>item_name</th>\n",
       "      <th>item_price</th>\n",
       "    </tr>\n",
       "  </thead>\n",
       "  <tbody>\n",
       "    <tr>\n",
       "      <th>1</th>\n",
       "      <td>Nail</td>\n",
       "      <td>0.2</td>\n",
       "    </tr>\n",
       "    <tr>\n",
       "      <th>0</th>\n",
       "      <td>Hammer</td>\n",
       "      <td>1.9</td>\n",
       "    </tr>\n",
       "    <tr>\n",
       "      <th>2</th>\n",
       "      <td>Scissors</td>\n",
       "      <td>3.0</td>\n",
       "    </tr>\n",
       "    <tr>\n",
       "      <th>3</th>\n",
       "      <td>Lawnmower</td>\n",
       "      <td>99.9</td>\n",
       "    </tr>\n",
       "  </tbody>\n",
       "</table>\n",
       "</div>"
      ],
      "text/plain": [
       "   item_name  item_price\n",
       "1       Nail         0.2\n",
       "0     Hammer         1.9\n",
       "2   Scissors         3.0\n",
       "3  Lawnmower        99.9"
      ]
     },
     "execution_count": 7,
     "metadata": {},
     "output_type": "execute_result"
    }
   ],
   "source": [
    "csv.sort_values('item_price')"
   ]
  },
  {
   "cell_type": "code",
   "execution_count": 8,
   "metadata": {
    "slideshow": {
     "slide_type": "slide"
    }
   },
   "outputs": [
    {
     "data": {
      "text/html": [
       "<div>\n",
       "<style scoped>\n",
       "    .dataframe tbody tr th:only-of-type {\n",
       "        vertical-align: middle;\n",
       "    }\n",
       "\n",
       "    .dataframe tbody tr th {\n",
       "        vertical-align: top;\n",
       "    }\n",
       "\n",
       "    .dataframe thead th {\n",
       "        text-align: right;\n",
       "    }\n",
       "</style>\n",
       "<table border=\"1\" class=\"dataframe\">\n",
       "  <thead>\n",
       "    <tr style=\"text-align: right;\">\n",
       "      <th></th>\n",
       "      <th>item_name</th>\n",
       "      <th>item_price</th>\n",
       "    </tr>\n",
       "  </thead>\n",
       "  <tbody>\n",
       "    <tr>\n",
       "      <th>3</th>\n",
       "      <td>Lawnmower</td>\n",
       "      <td>99.9</td>\n",
       "    </tr>\n",
       "    <tr>\n",
       "      <th>2</th>\n",
       "      <td>Scissors</td>\n",
       "      <td>3.0</td>\n",
       "    </tr>\n",
       "    <tr>\n",
       "      <th>0</th>\n",
       "      <td>Hammer</td>\n",
       "      <td>1.9</td>\n",
       "    </tr>\n",
       "    <tr>\n",
       "      <th>1</th>\n",
       "      <td>Nail</td>\n",
       "      <td>0.2</td>\n",
       "    </tr>\n",
       "  </tbody>\n",
       "</table>\n",
       "</div>"
      ],
      "text/plain": [
       "   item_name  item_price\n",
       "3  Lawnmower        99.9\n",
       "2   Scissors         3.0\n",
       "0     Hammer         1.9\n",
       "1       Nail         0.2"
      ]
     },
     "execution_count": 8,
     "metadata": {},
     "output_type": "execute_result"
    }
   ],
   "source": [
    "csv.sort_values('item_price', ascending=False)"
   ]
  },
  {
   "cell_type": "markdown",
   "metadata": {
    "slideshow": {
     "slide_type": "slide"
    }
   },
   "source": [
    "## Getting the Nth row\n",
    "For example, getting the name of most expensive item:"
   ]
  },
  {
   "cell_type": "code",
   "execution_count": 9,
   "metadata": {
    "slideshow": {
     "slide_type": "fragment"
    }
   },
   "outputs": [
    {
     "data": {
      "text/html": [
       "<div>\n",
       "<style scoped>\n",
       "    .dataframe tbody tr th:only-of-type {\n",
       "        vertical-align: middle;\n",
       "    }\n",
       "\n",
       "    .dataframe tbody tr th {\n",
       "        vertical-align: top;\n",
       "    }\n",
       "\n",
       "    .dataframe thead th {\n",
       "        text-align: right;\n",
       "    }\n",
       "</style>\n",
       "<table border=\"1\" class=\"dataframe\">\n",
       "  <thead>\n",
       "    <tr style=\"text-align: right;\">\n",
       "      <th></th>\n",
       "      <th>item_name</th>\n",
       "      <th>item_price</th>\n",
       "    </tr>\n",
       "  </thead>\n",
       "  <tbody>\n",
       "    <tr>\n",
       "      <th>3</th>\n",
       "      <td>Lawnmower</td>\n",
       "      <td>99.9</td>\n",
       "    </tr>\n",
       "    <tr>\n",
       "      <th>2</th>\n",
       "      <td>Scissors</td>\n",
       "      <td>3.0</td>\n",
       "    </tr>\n",
       "    <tr>\n",
       "      <th>0</th>\n",
       "      <td>Hammer</td>\n",
       "      <td>1.9</td>\n",
       "    </tr>\n",
       "    <tr>\n",
       "      <th>1</th>\n",
       "      <td>Nail</td>\n",
       "      <td>0.2</td>\n",
       "    </tr>\n",
       "  </tbody>\n",
       "</table>\n",
       "</div>"
      ],
      "text/plain": [
       "   item_name  item_price\n",
       "3  Lawnmower        99.9\n",
       "2   Scissors         3.0\n",
       "0     Hammer         1.9\n",
       "1       Nail         0.2"
      ]
     },
     "execution_count": 9,
     "metadata": {},
     "output_type": "execute_result"
    }
   ],
   "source": [
    "a = csv.sort_values('item_price', ascending=False)\n",
    "a"
   ]
  },
  {
   "cell_type": "code",
   "execution_count": 10,
   "metadata": {
    "slideshow": {
     "slide_type": "subslide"
    }
   },
   "outputs": [
    {
     "data": {
      "text/plain": [
       "3    Lawnmower\n",
       "2     Scissors\n",
       "0       Hammer\n",
       "1         Nail\n",
       "Name: item_name, dtype: object"
      ]
     },
     "execution_count": 10,
     "metadata": {},
     "output_type": "execute_result"
    }
   ],
   "source": [
    "b = a['item_name']\n",
    "b"
   ]
  },
  {
   "cell_type": "code",
   "execution_count": 11,
   "metadata": {
    "slideshow": {
     "slide_type": "subslide"
    }
   },
   "outputs": [
    {
     "data": {
      "text/plain": [
       "'Lawnmower'"
      ]
     },
     "execution_count": 11,
     "metadata": {},
     "output_type": "execute_result"
    }
   ],
   "source": [
    "b.iloc[0]"
   ]
  },
  {
   "cell_type": "markdown",
   "metadata": {
    "slideshow": {
     "slide_type": "slide"
    }
   },
   "source": [
    "## Getting an index"
   ]
  },
  {
   "cell_type": "code",
   "execution_count": 12,
   "metadata": {
    "slideshow": {
     "slide_type": "fragment"
    }
   },
   "outputs": [
    {
     "data": {
      "text/plain": [
       "3"
      ]
     },
     "execution_count": 12,
     "metadata": {},
     "output_type": "execute_result"
    }
   ],
   "source": [
    "csv.sort_values('item_price', ascending=False).index[0]"
   ]
  },
  {
   "cell_type": "markdown",
   "metadata": {
    "slideshow": {
     "slide_type": "slide"
    }
   },
   "source": [
    "## Plotting Data"
   ]
  },
  {
   "cell_type": "code",
   "execution_count": 13,
   "metadata": {
    "slideshow": {
     "slide_type": "slide"
    }
   },
   "outputs": [
    {
     "data": {
      "text/plain": [
       "<matplotlib.axes._subplots.AxesSubplot at 0x7f0027a76a60>"
      ]
     },
     "execution_count": 13,
     "metadata": {},
     "output_type": "execute_result"
    },
    {
     "data": {
      "image/png": "[encoded data removed]",
      "text/plain": [
       "<Figure size 432x288 with 1 Axes>"
      ]
     },
     "metadata": {
      "needs_background": "light"
     },
     "output_type": "display_data"
    }
   ],
   "source": [
    "ts = pd.Series(np.random.randn(1000),\n",
    "               index=pd.date_range('1/1/2000', periods=1000))\n",
    "\n",
    "ts = ts.cumsum()\n",
    "\n",
    "\n",
    "df = pd.DataFrame(np.random.randn(1000, 4),\n",
    "                  index=ts.index, columns=list('ABCD')) \n",
    "\n",
    "df = df.cumsum()\n",
    "\n",
    "df.plot()"
   ]
  },
  {
   "cell_type": "markdown",
   "metadata": {
    "slideshow": {
     "slide_type": "slide"
    }
   },
   "source": [
    "## IMDB Example"
   ]
  },
  {
   "cell_type": "code",
   "execution_count": 14,
   "metadata": {
    "slideshow": {
     "slide_type": "slide"
    }
   },
   "outputs": [],
   "source": [
    "import pandas as pd\n",
    "\n",
    "# From: https://www.kaggle.com/carolzhangdc/imdb-5000-movie-dataset/data\n",
    "url = \"https://raw.githubusercontent.com/jonathanfrawley/data_analysis_and_machine_learning_course/master/data/movie_metadata.csv\"\n",
    "c = pd.read_csv(url)"
   ]
  },
  {
   "cell_type": "markdown",
   "metadata": {
    "slideshow": {
     "slide_type": "slide"
    }
   },
   "source": [
    "How many films has Steven Spielberg directed?"
   ]
  },
  {
   "cell_type": "code",
   "execution_count": 15,
   "metadata": {
    "slideshow": {
     "slide_type": "fragment"
    }
   },
   "outputs": [
    {
     "data": {
      "text/plain": [
       "26"
      ]
     },
     "execution_count": 15,
     "metadata": {},
     "output_type": "execute_result"
    }
   ],
   "source": [
    "spielberg_films = c[c['director_name'] == 'Steven Spielberg']\n",
    "len(spielberg_films)"
   ]
  },
  {
   "cell_type": "markdown",
   "metadata": {
    "slideshow": {
     "slide_type": "slide"
    }
   },
   "source": [
    "What is Steven Spielberg's highest grossing film?"
   ]
  },
  {
   "cell_type": "code",
   "execution_count": 16,
   "metadata": {
    "slideshow": {
     "slide_type": "fragment"
    }
   },
   "outputs": [
    {
     "data": {
      "text/plain": [
       "'E.T. the Extra-Terrestrial'"
      ]
     },
     "execution_count": 16,
     "metadata": {},
     "output_type": "execute_result"
    }
   ],
   "source": [
    "spielberg_films.sort_values('gross', ascending=False).iloc[0]['movie_title'].strip()"
   ]
  },
  {
   "cell_type": "markdown",
   "metadata": {
    "slideshow": {
     "slide_type": "slide"
    }
   },
   "source": [
    "Graphing how much money Steven Spielberg films have made over time:"
   ]
  },
  {
   "cell_type": "code",
   "execution_count": 17,
   "metadata": {
    "slideshow": {
     "slide_type": "subslide"
    }
   },
   "outputs": [
    {
     "data": {
      "text/plain": [
       "<matplotlib.axes._subplots.AxesSubplot at 0x7f002177e820>"
      ]
     },
     "execution_count": 17,
     "metadata": {},
     "output_type": "execute_result"
    },
    {
     "data": {
      "image/png": "[encoded data removed]",
      "text/plain": [
       "<Figure size 432x288 with 1 Axes>"
      ]
     },
     "metadata": {
      "needs_background": "light"
     },
     "output_type": "display_data"
    }
   ],
   "source": [
    "spielberg_films = spielberg_films.dropna(how='any')\n",
    "spielberg_films['title_year'] = spielberg_films['title_year'].astype('int32')\n",
    "spielberg_films['gross'] = spielberg_films['gross'].astype('int32')\n",
    "spielberg_films_sorted = spielberg_films.sort_values('title_year')\n",
    "spielberg_films_sorted.plot.bar(x='title_year', y='gross', style='o')"
   ]
  },
  {
   "cell_type": "code",
   "execution_count": 18,
   "metadata": {
    "slideshow": {
     "slide_type": "slide"
    }
   },
   "outputs": [
    {
     "data": {
      "text/html": [
       "<div>\n",
       "<style scoped>\n",
       "    .dataframe tbody tr th:only-of-type {\n",
       "        vertical-align: middle;\n",
       "    }\n",
       "\n",
       "    .dataframe tbody tr th {\n",
       "        vertical-align: top;\n",
       "    }\n",
       "\n",
       "    .dataframe thead th {\n",
       "        text-align: right;\n",
       "    }\n",
       "</style>\n",
       "<table border=\"1\" class=\"dataframe\">\n",
       "  <thead>\n",
       "    <tr style=\"text-align: right;\">\n",
       "      <th></th>\n",
       "      <th>num_critic_for_reviews</th>\n",
       "      <th>duration</th>\n",
       "      <th>director_facebook_likes</th>\n",
       "      <th>actor_3_facebook_likes</th>\n",
       "      <th>actor_1_facebook_likes</th>\n",
       "      <th>gross</th>\n",
       "      <th>num_voted_users</th>\n",
       "      <th>cast_total_facebook_likes</th>\n",
       "      <th>facenumber_in_poster</th>\n",
       "      <th>num_user_for_reviews</th>\n",
       "      <th>budget</th>\n",
       "      <th>actor_2_facebook_likes</th>\n",
       "      <th>imdb_score</th>\n",
       "      <th>aspect_ratio</th>\n",
       "      <th>movie_facebook_likes</th>\n",
       "    </tr>\n",
       "    <tr>\n",
       "      <th>title_year</th>\n",
       "      <th></th>\n",
       "      <th></th>\n",
       "      <th></th>\n",
       "      <th></th>\n",
       "      <th></th>\n",
       "      <th></th>\n",
       "      <th></th>\n",
       "      <th></th>\n",
       "      <th></th>\n",
       "      <th></th>\n",
       "      <th></th>\n",
       "      <th></th>\n",
       "      <th></th>\n",
       "      <th></th>\n",
       "      <th></th>\n",
       "    </tr>\n",
       "  </thead>\n",
       "  <tbody>\n",
       "    <tr>\n",
       "      <th>1975</th>\n",
       "      <td>385.0</td>\n",
       "      <td>130.0</td>\n",
       "      <td>14000.0</td>\n",
       "      <td>366.0</td>\n",
       "      <td>813.0</td>\n",
       "      <td>260000000</td>\n",
       "      <td>412454</td>\n",
       "      <td>2047</td>\n",
       "      <td>0.0</td>\n",
       "      <td>962.0</td>\n",
       "      <td>8000000.0</td>\n",
       "      <td>559.0</td>\n",
       "      <td>8.0</td>\n",
       "      <td>2.35</td>\n",
       "      <td>21000</td>\n",
       "    </tr>\n",
       "    <tr>\n",
       "      <th>1977</th>\n",
       "      <td>171.0</td>\n",
       "      <td>135.0</td>\n",
       "      <td>14000.0</td>\n",
       "      <td>252.0</td>\n",
       "      <td>559.0</td>\n",
       "      <td>128300000</td>\n",
       "      <td>139288</td>\n",
       "      <td>1591</td>\n",
       "      <td>0.0</td>\n",
       "      <td>339.0</td>\n",
       "      <td>19400870.0</td>\n",
       "      <td>481.0</td>\n",
       "      <td>7.7</td>\n",
       "      <td>2.35</td>\n",
       "      <td>0</td>\n",
       "    </tr>\n",
       "    <tr>\n",
       "      <th>1981</th>\n",
       "      <td>234.0</td>\n",
       "      <td>115.0</td>\n",
       "      <td>14000.0</td>\n",
       "      <td>488.0</td>\n",
       "      <td>11000.0</td>\n",
       "      <td>242374454</td>\n",
       "      <td>661017</td>\n",
       "      <td>12906</td>\n",
       "      <td>1.0</td>\n",
       "      <td>771.0</td>\n",
       "      <td>18000000.0</td>\n",
       "      <td>783.0</td>\n",
       "      <td>8.5</td>\n",
       "      <td>2.35</td>\n",
       "      <td>16000</td>\n",
       "    </tr>\n",
       "    <tr>\n",
       "      <th>1982</th>\n",
       "      <td>215.0</td>\n",
       "      <td>120.0</td>\n",
       "      <td>14000.0</td>\n",
       "      <td>548.0</td>\n",
       "      <td>861.0</td>\n",
       "      <td>434949459</td>\n",
       "      <td>281842</td>\n",
       "      <td>2811</td>\n",
       "      <td>0.0</td>\n",
       "      <td>515.0</td>\n",
       "      <td>10500000.0</td>\n",
       "      <td>725.0</td>\n",
       "      <td>7.9</td>\n",
       "      <td>1.85</td>\n",
       "      <td>34000</td>\n",
       "    </tr>\n",
       "    <tr>\n",
       "      <th>1984</th>\n",
       "      <td>148.0</td>\n",
       "      <td>118.0</td>\n",
       "      <td>14000.0</td>\n",
       "      <td>237.0</td>\n",
       "      <td>11000.0</td>\n",
       "      <td>179870271</td>\n",
       "      <td>329969</td>\n",
       "      <td>11898</td>\n",
       "      <td>2.0</td>\n",
       "      <td>524.0</td>\n",
       "      <td>28000000.0</td>\n",
       "      <td>429.0</td>\n",
       "      <td>7.6</td>\n",
       "      <td>2.35</td>\n",
       "      <td>0</td>\n",
       "    </tr>\n",
       "    <tr>\n",
       "      <th>1985</th>\n",
       "      <td>70.0</td>\n",
       "      <td>154.0</td>\n",
       "      <td>14000.0</td>\n",
       "      <td>271.0</td>\n",
       "      <td>852.0</td>\n",
       "      <td>94175854</td>\n",
       "      <td>60988</td>\n",
       "      <td>2592</td>\n",
       "      <td>0.0</td>\n",
       "      <td>199.0</td>\n",
       "      <td>15000000.0</td>\n",
       "      <td>581.0</td>\n",
       "      <td>7.8</td>\n",
       "      <td>1.85</td>\n",
       "      <td>6000</td>\n",
       "    </tr>\n",
       "    <tr>\n",
       "      <th>1989</th>\n",
       "      <td>149.0</td>\n",
       "      <td>127.0</td>\n",
       "      <td>14000.0</td>\n",
       "      <td>440.0</td>\n",
       "      <td>11000.0</td>\n",
       "      <td>197171806</td>\n",
       "      <td>515306</td>\n",
       "      <td>12884</td>\n",
       "      <td>5.0</td>\n",
       "      <td>477.0</td>\n",
       "      <td>48000000.0</td>\n",
       "      <td>844.0</td>\n",
       "      <td>8.3</td>\n",
       "      <td>2.35</td>\n",
       "      <td>0</td>\n",
       "    </tr>\n",
       "    <tr>\n",
       "      <th>1991</th>\n",
       "      <td>75.0</td>\n",
       "      <td>142.0</td>\n",
       "      <td>14000.0</td>\n",
       "      <td>5000.0</td>\n",
       "      <td>49000.0</td>\n",
       "      <td>119654900</td>\n",
       "      <td>182802</td>\n",
       "      <td>64259</td>\n",
       "      <td>1.0</td>\n",
       "      <td>363.0</td>\n",
       "      <td>70000000.0</td>\n",
       "      <td>8000.0</td>\n",
       "      <td>6.7</td>\n",
       "      <td>2.35</td>\n",
       "      <td>13000</td>\n",
       "    </tr>\n",
       "    <tr>\n",
       "      <th>1993</th>\n",
       "      <td>482.0</td>\n",
       "      <td>312.0</td>\n",
       "      <td>28000.0</td>\n",
       "      <td>403.0</td>\n",
       "      <td>14967.0</td>\n",
       "      <td>452851179</td>\n",
       "      <td>1478493</td>\n",
       "      <td>17362</td>\n",
       "      <td>0.0</td>\n",
       "      <td>2168.0</td>\n",
       "      <td>85000000.0</td>\n",
       "      <td>1405.0</td>\n",
       "      <td>17.0</td>\n",
       "      <td>3.70</td>\n",
       "      <td>60000</td>\n",
       "    </tr>\n",
       "    <tr>\n",
       "      <th>1997</th>\n",
       "      <td>254.0</td>\n",
       "      <td>284.0</td>\n",
       "      <td>28000.0</td>\n",
       "      <td>11227.0</td>\n",
       "      <td>12610.0</td>\n",
       "      <td>273249918</td>\n",
       "      <td>334871</td>\n",
       "      <td>39205</td>\n",
       "      <td>2.0</td>\n",
       "      <td>779.0</td>\n",
       "      <td>109000000.0</td>\n",
       "      <td>11506.0</td>\n",
       "      <td>13.7</td>\n",
       "      <td>3.70</td>\n",
       "      <td>0</td>\n",
       "    </tr>\n",
       "    <tr>\n",
       "      <th>1998</th>\n",
       "      <td>219.0</td>\n",
       "      <td>169.0</td>\n",
       "      <td>14000.0</td>\n",
       "      <td>13000.0</td>\n",
       "      <td>15000.0</td>\n",
       "      <td>216119491</td>\n",
       "      <td>881236</td>\n",
       "      <td>44998</td>\n",
       "      <td>2.0</td>\n",
       "      <td>2277.0</td>\n",
       "      <td>70000000.0</td>\n",
       "      <td>14000.0</td>\n",
       "      <td>8.6</td>\n",
       "      <td>1.85</td>\n",
       "      <td>22000</td>\n",
       "    </tr>\n",
       "    <tr>\n",
       "      <th>2001</th>\n",
       "      <td>281.0</td>\n",
       "      <td>146.0</td>\n",
       "      <td>14000.0</td>\n",
       "      <td>681.0</td>\n",
       "      <td>3000.0</td>\n",
       "      <td>78616689</td>\n",
       "      <td>238747</td>\n",
       "      <td>6217</td>\n",
       "      <td>0.0</td>\n",
       "      <td>2153.0</td>\n",
       "      <td>100000000.0</td>\n",
       "      <td>882.0</td>\n",
       "      <td>7.1</td>\n",
       "      <td>1.85</td>\n",
       "      <td>11000</td>\n",
       "    </tr>\n",
       "    <tr>\n",
       "      <th>2002</th>\n",
       "      <td>446.0</td>\n",
       "      <td>286.0</td>\n",
       "      <td>28000.0</td>\n",
       "      <td>3533.0</td>\n",
       "      <td>39000.0</td>\n",
       "      <td>296449333</td>\n",
       "      <td>925452</td>\n",
       "      <td>60699</td>\n",
       "      <td>0.0</td>\n",
       "      <td>1998.0</td>\n",
       "      <td>154000000.0</td>\n",
       "      <td>15798.0</td>\n",
       "      <td>15.7</td>\n",
       "      <td>4.20</td>\n",
       "      <td>15000</td>\n",
       "    </tr>\n",
       "    <tr>\n",
       "      <th>2004</th>\n",
       "      <td>151.0</td>\n",
       "      <td>128.0</td>\n",
       "      <td>14000.0</td>\n",
       "      <td>232.0</td>\n",
       "      <td>15000.0</td>\n",
       "      <td>77032279</td>\n",
       "      <td>303864</td>\n",
       "      <td>16199</td>\n",
       "      <td>0.0</td>\n",
       "      <td>596.0</td>\n",
       "      <td>60000000.0</td>\n",
       "      <td>466.0</td>\n",
       "      <td>7.3</td>\n",
       "      <td>1.85</td>\n",
       "      <td>16000</td>\n",
       "    </tr>\n",
       "    <tr>\n",
       "      <th>2005</th>\n",
       "      <td>699.0</td>\n",
       "      <td>279.0</td>\n",
       "      <td>28000.0</td>\n",
       "      <td>1219.0</td>\n",
       "      <td>10745.0</td>\n",
       "      <td>281656146</td>\n",
       "      <td>511281</td>\n",
       "      <td>15287</td>\n",
       "      <td>0.0</td>\n",
       "      <td>3565.0</td>\n",
       "      <td>202000000.0</td>\n",
       "      <td>1486.0</td>\n",
       "      <td>14.1</td>\n",
       "      <td>4.20</td>\n",
       "      <td>0</td>\n",
       "    </tr>\n",
       "    <tr>\n",
       "      <th>2008</th>\n",
       "      <td>470.0</td>\n",
       "      <td>122.0</td>\n",
       "      <td>14000.0</td>\n",
       "      <td>1000.0</td>\n",
       "      <td>11000.0</td>\n",
       "      <td>317011114</td>\n",
       "      <td>333847</td>\n",
       "      <td>14959</td>\n",
       "      <td>2.0</td>\n",
       "      <td>2054.0</td>\n",
       "      <td>185000000.0</td>\n",
       "      <td>1000.0</td>\n",
       "      <td>6.2</td>\n",
       "      <td>2.35</td>\n",
       "      <td>5000</td>\n",
       "    </tr>\n",
       "    <tr>\n",
       "      <th>2011</th>\n",
       "      <td>828.0</td>\n",
       "      <td>253.0</td>\n",
       "      <td>28000.0</td>\n",
       "      <td>1824.0</td>\n",
       "      <td>27000.0</td>\n",
       "      <td>157447396</td>\n",
       "      <td>293542</td>\n",
       "      <td>51357</td>\n",
       "      <td>2.0</td>\n",
       "      <td>935.0</td>\n",
       "      <td>201000000.0</td>\n",
       "      <td>19871.0</td>\n",
       "      <td>14.6</td>\n",
       "      <td>4.70</td>\n",
       "      <td>72000</td>\n",
       "    </tr>\n",
       "    <tr>\n",
       "      <th>2012</th>\n",
       "      <td>538.0</td>\n",
       "      <td>150.0</td>\n",
       "      <td>14000.0</td>\n",
       "      <td>655.0</td>\n",
       "      <td>23000.0</td>\n",
       "      <td>182204440</td>\n",
       "      <td>197412</td>\n",
       "      <td>25517</td>\n",
       "      <td>0.0</td>\n",
       "      <td>720.0</td>\n",
       "      <td>65000000.0</td>\n",
       "      <td>826.0</td>\n",
       "      <td>7.4</td>\n",
       "      <td>2.35</td>\n",
       "      <td>71000</td>\n",
       "    </tr>\n",
       "    <tr>\n",
       "      <th>2015</th>\n",
       "      <td>459.0</td>\n",
       "      <td>142.0</td>\n",
       "      <td>14000.0</td>\n",
       "      <td>423.0</td>\n",
       "      <td>15000.0</td>\n",
       "      <td>72306065</td>\n",
       "      <td>178118</td>\n",
       "      <td>16944</td>\n",
       "      <td>0.0</td>\n",
       "      <td>355.0</td>\n",
       "      <td>40000000.0</td>\n",
       "      <td>535.0</td>\n",
       "      <td>7.6</td>\n",
       "      <td>2.35</td>\n",
       "      <td>55000</td>\n",
       "    </tr>\n",
       "    <tr>\n",
       "      <th>2016</th>\n",
       "      <td>252.0</td>\n",
       "      <td>117.0</td>\n",
       "      <td>14000.0</td>\n",
       "      <td>358.0</td>\n",
       "      <td>535.0</td>\n",
       "      <td>52792307</td>\n",
       "      <td>12572</td>\n",
       "      <td>1950</td>\n",
       "      <td>0.0</td>\n",
       "      <td>106.0</td>\n",
       "      <td>140000000.0</td>\n",
       "      <td>400.0</td>\n",
       "      <td>6.8</td>\n",
       "      <td>2.35</td>\n",
       "      <td>27000</td>\n",
       "    </tr>\n",
       "  </tbody>\n",
       "</table>\n",
       "</div>"
      ],
      "text/plain": [
       "            num_critic_for_reviews  duration  director_facebook_likes  \\\n",
       "title_year                                                              \n",
       "1975                         385.0     130.0                  14000.0   \n",
       "1977                         171.0     135.0                  14000.0   \n",
       "1981                         234.0     115.0                  14000.0   \n",
       "1982                         215.0     120.0                  14000.0   \n",
       "1984                         148.0     118.0                  14000.0   \n",
       "1985                          70.0     154.0                  14000.0   \n",
       "1989                         149.0     127.0                  14000.0   \n",
       "1991                          75.0     142.0                  14000.0   \n",
       "1993                         482.0     312.0                  28000.0   \n",
       "1997                         254.0     284.0                  28000.0   \n",
       "1998                         219.0     169.0                  14000.0   \n",
       "2001                         281.0     146.0                  14000.0   \n",
       "2002                         446.0     286.0                  28000.0   \n",
       "2004                         151.0     128.0                  14000.0   \n",
       "2005                         699.0     279.0                  28000.0   \n",
       "2008                         470.0     122.0                  14000.0   \n",
       "2011                         828.0     253.0                  28000.0   \n",
       "2012                         538.0     150.0                  14000.0   \n",
       "2015                         459.0     142.0                  14000.0   \n",
       "2016                         252.0     117.0                  14000.0   \n",
       "\n",
       "            actor_3_facebook_likes  actor_1_facebook_likes      gross  \\\n",
       "title_year                                                              \n",
       "1975                         366.0                   813.0  260000000   \n",
       "1977                         252.0                   559.0  128300000   \n",
       "1981                         488.0                 11000.0  242374454   \n",
       "1982                         548.0                   861.0  434949459   \n",
       "1984                         237.0                 11000.0  179870271   \n",
       "1985                         271.0                   852.0   94175854   \n",
       "1989                         440.0                 11000.0  197171806   \n",
       "1991                        5000.0                 49000.0  119654900   \n",
       "1993                         403.0                 14967.0  452851179   \n",
       "1997                       11227.0                 12610.0  273249918   \n",
       "1998                       13000.0                 15000.0  216119491   \n",
       "2001                         681.0                  3000.0   78616689   \n",
       "2002                        3533.0                 39000.0  296449333   \n",
       "2004                         232.0                 15000.0   77032279   \n",
       "2005                        1219.0                 10745.0  281656146   \n",
       "2008                        1000.0                 11000.0  317011114   \n",
       "2011                        1824.0                 27000.0  157447396   \n",
       "2012                         655.0                 23000.0  182204440   \n",
       "2015                         423.0                 15000.0   72306065   \n",
       "2016                         358.0                   535.0   52792307   \n",
       "\n",
       "            num_voted_users  cast_total_facebook_likes  facenumber_in_poster  \\\n",
       "title_year                                                                     \n",
       "1975                 412454                       2047                   0.0   \n",
       "1977                 139288                       1591                   0.0   \n",
       "1981                 661017                      12906                   1.0   \n",
       "1982                 281842                       2811                   0.0   \n",
       "1984                 329969                      11898                   2.0   \n",
       "1985                  60988                       2592                   0.0   \n",
       "1989                 515306                      12884                   5.0   \n",
       "1991                 182802                      64259                   1.0   \n",
       "1993                1478493                      17362                   0.0   \n",
       "1997                 334871                      39205                   2.0   \n",
       "1998                 881236                      44998                   2.0   \n",
       "2001                 238747                       6217                   0.0   \n",
       "2002                 925452                      60699                   0.0   \n",
       "2004                 303864                      16199                   0.0   \n",
       "2005                 511281                      15287                   0.0   \n",
       "2008                 333847                      14959                   2.0   \n",
       "2011                 293542                      51357                   2.0   \n",
       "2012                 197412                      25517                   0.0   \n",
       "2015                 178118                      16944                   0.0   \n",
       "2016                  12572                       1950                   0.0   \n",
       "\n",
       "            num_user_for_reviews       budget  actor_2_facebook_likes  \\\n",
       "title_year                                                              \n",
       "1975                       962.0    8000000.0                   559.0   \n",
       "1977                       339.0   19400870.0                   481.0   \n",
       "1981                       771.0   18000000.0                   783.0   \n",
       "1982                       515.0   10500000.0                   725.0   \n",
       "1984                       524.0   28000000.0                   429.0   \n",
       "1985                       199.0   15000000.0                   581.0   \n",
       "1989                       477.0   48000000.0                   844.0   \n",
       "1991                       363.0   70000000.0                  8000.0   \n",
       "1993                      2168.0   85000000.0                  1405.0   \n",
       "1997                       779.0  109000000.0                 11506.0   \n",
       "1998                      2277.0   70000000.0                 14000.0   \n",
       "2001                      2153.0  100000000.0                   882.0   \n",
       "2002                      1998.0  154000000.0                 15798.0   \n",
       "2004                       596.0   60000000.0                   466.0   \n",
       "2005                      3565.0  202000000.0                  1486.0   \n",
       "2008                      2054.0  185000000.0                  1000.0   \n",
       "2011                       935.0  201000000.0                 19871.0   \n",
       "2012                       720.0   65000000.0                   826.0   \n",
       "2015                       355.0   40000000.0                   535.0   \n",
       "2016                       106.0  140000000.0                   400.0   \n",
       "\n",
       "            imdb_score  aspect_ratio  movie_facebook_likes  \n",
       "title_year                                                  \n",
       "1975               8.0          2.35                 21000  \n",
       "1977               7.7          2.35                     0  \n",
       "1981               8.5          2.35                 16000  \n",
       "1982               7.9          1.85                 34000  \n",
       "1984               7.6          2.35                     0  \n",
       "1985               7.8          1.85                  6000  \n",
       "1989               8.3          2.35                     0  \n",
       "1991               6.7          2.35                 13000  \n",
       "1993              17.0          3.70                 60000  \n",
       "1997              13.7          3.70                     0  \n",
       "1998               8.6          1.85                 22000  \n",
       "2001               7.1          1.85                 11000  \n",
       "2002              15.7          4.20                 15000  \n",
       "2004               7.3          1.85                 16000  \n",
       "2005              14.1          4.20                     0  \n",
       "2008               6.2          2.35                  5000  \n",
       "2011              14.6          4.70                 72000  \n",
       "2012               7.4          2.35                 71000  \n",
       "2015               7.6          2.35                 55000  \n",
       "2016               6.8          2.35                 27000  "
      ]
     },
     "execution_count": 18,
     "metadata": {},
     "output_type": "execute_result"
    }
   ],
   "source": [
    "spielberg_films_by_title_year = spielberg_films.groupby('title_year').sum()\n",
    "spielberg_films_by_title_year"
   ]
  },
  {
   "cell_type": "markdown",
   "metadata": {
    "slideshow": {
     "slide_type": "slide"
    }
   },
   "source": [
    "# Convert to units of millions of dollars"
   ]
  },
  {
   "cell_type": "code",
   "execution_count": 19,
   "metadata": {
    "slideshow": {
     "slide_type": "subslide"
    }
   },
   "outputs": [
    {
     "data": {
      "image/png": "[encoded data removed]",
      "text/plain": [
       "<Figure size 432x288 with 1 Axes>"
      ]
     },
     "metadata": {
      "needs_background": "light"
     },
     "output_type": "display_data"
    }
   ],
   "source": [
    "spielberg_films_by_title_year['gross'] = spielberg_films_by_title_year['gross'] / 1000000\n",
    "\n",
    "plt.plot(spielberg_films_by_title_year.index, spielberg_films_by_title_year['gross'])\n",
    "plt.xlabel('Year')\n",
    "plt.ylabel('Gross (Million $)')\n",
    "plt.ticklabel_format(style='plain')\n",
    "plt.show()"
   ]
  },
  {
   "cell_type": "markdown",
   "metadata": {
    "slideshow": {
     "slide_type": "slide"
    }
   },
   "source": [
    "## Smoothing data\n",
    "Maybe we could make it look a bit better by smoothing the data a bit?"
   ]
  },
  {
   "cell_type": "code",
   "execution_count": 20,
   "metadata": {
    "slideshow": {
     "slide_type": "subslide"
    }
   },
   "outputs": [
    {
     "data": {
      "image/png": "[encoded data removed]",
      "text/plain": [
       "<Figure size 432x288 with 1 Axes>"
      ]
     },
     "metadata": {
      "needs_background": "light"
     },
     "output_type": "display_data"
    }
   ],
   "source": [
    "x = spielberg_films_by_title_year.index.to_numpy()\n",
    "y = spielberg_films_by_title_year['gross'].to_numpy()\n",
    "\n",
    "xnew = np.linspace(x.min(), x.max(), 300) \n",
    "spl = make_interp_spline(x, y, k=3)  # type: BSpline\n",
    "power_smooth = spl(xnew)\n",
    "\n",
    "plt.plot(xnew, power_smooth)\n",
    "plt.show()"
   ]
  },
  {
   "cell_type": "markdown",
   "metadata": {
    "slideshow": {
     "slide_type": "slide"
    }
   },
   "source": [
    "## Resources\n",
    " * [10 minutes intro to Pandas](https://pandas.pydata.org/pandas-docs/stable/getting_started/10min.html)"
   ]
  }
 ],
 "metadata": {
  "celltoolbar": "Slideshow",
  "kernelspec": {
   "display_name": "Python 3",
   "language": "python",
   "name": "python3"
  },
  "language_info": {
   "codemirror_mode": {
    "name": "ipython",
    "version": 3
   },
   "file_extension": ".py",
   "mimetype": "text/x-python",
   "name": "python",
   "nbconvert_exporter": "python",
   "pygments_lexer": "ipython3",
   "version": "3.8.3"
  }
 },
 "nbformat": 4,
 "nbformat_minor": 2
}
