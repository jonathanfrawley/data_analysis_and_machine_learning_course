{
 "cells": [
  {
   "cell_type": "markdown",
   "metadata": {
    "colab_type": "text",
    "id": "eD5q--QijJRY"
   },
   "source": [
    "# Exercises 01 Solution: Probability and Matplotlib\n",
    "\n"
   ]
  },
  {
   "cell_type": "markdown",
   "metadata": {},
   "source": [
    "*Link to slides: <https://bit.ly/2VNQR0z>*"
   ]
  },
  {
   "cell_type": "markdown",
   "metadata": {},
   "source": [
    "First, let us import our dependencies:"
   ]
  },
  {
   "cell_type": "code",
   "execution_count": null,
   "metadata": {},
   "outputs": [],
   "source": [
    "import matplotlib\n",
    "import matplotlib.pyplot as plt\n",
    "import numpy as np"
   ]
  },
  {
   "cell_type": "markdown",
   "metadata": {},
   "source": [
    "## Exercise 1 - Die rolls\n",
    "Simulate a die being rolled 10000 times and return the number of times the die rolled 1:"
   ]
  },
  {
   "cell_type": "code",
   "execution_count": null,
   "metadata": {},
   "outputs": [],
   "source": [
    "def ones():\n",
    "    # Your code here\n",
    "    raise NotImplementedError() # REMOVE THIS"
   ]
  },
  {
   "cell_type": "code",
   "execution_count": null,
   "metadata": {},
   "outputs": [],
   "source": [
    "# Run this to test your code\n",
    "prob = (1/6)\n",
    "expected = 10000 * prob\n",
    "for i in range(100):\n",
    "    result = ones()\n",
    "    np.testing.assert_allclose(result, expected, rtol=1e-5, atol=200)\n",
    "print(\"Passed!\")"
   ]
  },
  {
   "cell_type": "markdown",
   "metadata": {},
   "source": [
    "## Exercise 2 - Plotting Probability Distribution Functions (PDFs)\n",
    "Use NumPy to generate data for a normal distribution with a mean of 5 and a standard deviation of 10. Plot a PDF of this data using Matplotlib, colour the data in yellow and plotting the mean (in brown) and +/- 1 standard deviation (in cyan) as vertical lines. See slides for examples of this and see [here](https://matplotlib.org/3.1.0/gallery/color/named_colors.html) for a list of colours."
   ]
  },
  {
   "cell_type": "code",
   "execution_count": null,
   "metadata": {},
   "outputs": [],
   "source": [
    "def plot():\n",
    "    # Your code here\n",
    "    raise NotImplementedError() # REMOVE THIS"
   ]
  },
  {
   "cell_type": "code",
   "execution_count": null,
   "metadata": {},
   "outputs": [],
   "source": [
    "# Run this to test your code (you will need to self-evaluate here or post a screenshot to an instructor)\n",
    "plot()"
   ]
  },
  {
   "cell_type": "markdown",
   "metadata": {
    "colab_type": "text",
    "id": "A0WUtVfFjXJW"
   },
   "source": [
    "## Exercise 3\n",
    "Fill in the function below to return the number of elements which are within 1 standard deviation of the mean of the passed in numpy array.\n",
    "\n",
    "\n",
    "\n"
   ]
  },
  {
   "cell_type": "code",
   "execution_count": null,
   "metadata": {},
   "outputs": [],
   "source": [
    "def num_within_1_standard_deviation(arr):\n",
    "    # Your code here\n",
    "    raise NotImplementedError() # REMOVE THIS"
   ]
  },
  {
   "cell_type": "code",
   "execution_count": null,
   "metadata": {},
   "outputs": [],
   "source": [
    "# Tests for above, run this to test your code\n",
    "mean, std = 0, 0.1\n",
    "n_elems = 10000\n",
    "arr = np.random.normal(mean, std, n_elems)\n",
    "\n",
    "np.testing.assert_allclose(num_within_1_standard_deviation(arr) / n_elems, 0.6827, rtol=1e-5, atol=0.01)\n",
    "print(\"Passed!\")"
   ]
  }
 ],
 "metadata": {
  "colab": {
   "authorship_tag": "ABX9TyMCUJHy4tx7rp6OVEwaYzdz",
   "include_colab_link": true,
   "name": "exercises_01.ipynb",
   "provenance": []
  },
  "kernelspec": {
   "display_name": "Python 3",
   "language": "python",
   "name": "python3"
  },
  "language_info": {
   "codemirror_mode": {
    "name": "ipython",
    "version": 3
   },
   "file_extension": ".py",
   "mimetype": "text/x-python",
   "name": "python",
   "nbconvert_exporter": "python",
   "pygments_lexer": "ipython3",
   "version": "3.8.3"
  }
 },
 "nbformat": 4,
 "nbformat_minor": 1
}
